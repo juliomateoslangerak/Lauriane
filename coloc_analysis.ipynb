{
 "cells": [
  {
   "cell_type": "markdown",
   "metadata": {},
   "source": [
    "# Co-localization Analysis on Drosophila spreads"
   ]
  },
  {
   "cell_type": "markdown",
   "metadata": {},
   "source": [
    "This notebook analyses co-localization on Drosophila salivary glands spreads"
   ]
  },
  {
   "cell_type": "markdown",
   "metadata": {},
   "source": [
    "### Import Packages"
   ]
  },
  {
   "cell_type": "code",
   "execution_count": 1,
   "metadata": {},
   "outputs": [],
   "source": [
    "# %tb\n",
    "\n",
    "# Import Cell Profiler Dependencies\n",
    "import cellprofiler\n",
    "import cellprofiler_core.preferences as cpprefs\n",
    "import cellprofiler.modules as cpm\n",
    "import cellprofiler_core.pipeline as cpp\n",
    "cpprefs.set_headless()\n",
    "\n",
    "# Inject Image module used to inject OMERO image planes into Cell Profiler Pipeline\n",
    "from cellprofiler_core.modules.injectimage import InjectImage\n",
    "\n",
    "# Import OMERO Python BlitzGateway\n",
    "from omero.gateway import BlitzGateway\n",
    "\n",
    "# Import Python System Packages\n",
    "import os\n",
    "import tempfile\n",
    "import pandas\n",
    "import warnings\n",
    "\n",
    "from getpass import getpass"
   ]
  },
  {
   "cell_type": "markdown",
   "metadata": {},
   "source": [
    "### Set Cell Output Directory"
   ]
  },
  {
   "cell_type": "code",
   "execution_count": 2,
   "metadata": {},
   "outputs": [],
   "source": [
    "new_output_directory = os.path.normcase(tempfile.mkdtemp())\n",
    "cpprefs.set_default_output_directory(new_output_directory)"
   ]
  },
  {
   "cell_type": "markdown",
   "metadata": {},
   "source": [
    "### OMERO Credentials and dataset to analyze"
   ]
  },
  {
   "cell_type": "code",
   "execution_count": 3,
   "metadata": {},
   "outputs": [
    {
     "name": "stdout",
     "output_type": "stream",
     "text": [
      "Username: trainer-1\n",
      "OMERO Password: ········\n"
     ]
    },
    {
     "data": {
      "text/plain": [
       "True"
      ]
     },
     "execution_count": 3,
     "metadata": {},
     "output_type": "execute_result"
    }
   ],
   "source": [
    "HOST = 'omero.mri.cnrs.fr'\n",
    "conn = BlitzGateway(input(\"Username: \"),\n",
    "                    getpass(\"OMERO Password: \"),\n",
    "                    host=HOST, secure=True)\n",
    "conn.connect()\n",
    "\n",
    "datasetid = input(\"Dataset id: \")\n",
    "dataset = conn.getObject(\"Dataset\", datasetid)\n",
    "print('Dataset Name: ',dataset.getName())"
   ]
  },
  {
   "cell_type": "markdown",
   "metadata": {},
   "source": [
    "### Load a cellprofiler pipeline attached to the dataset\n",
    "Be careful, this script only takes the first pipeline that is attached to a dataset, so best keep only one pipeline in the dataset"
   ]
  },
  {
   "cell_type": "code",
   "execution_count": 5,
   "metadata": {},
   "outputs": [
    {
     "name": "stdout",
     "output_type": "stream",
     "text": [
      "Remove module:  Images\n",
      "Remove module:  Metadata\n",
      "Remove module:  NamesAndTypes\n",
      "Remove module:  Groups\n",
      "Pipeline modules:\n",
      "1 Crop\n",
      "2 Crop\n",
      "3 Crop\n",
      "4 IdentifyPrimaryObjects\n",
      "5 IdentifySecondaryObjects\n",
      "6 IdentifyTertiaryObjects\n",
      "7 MeasureObjectSizeShape\n",
      "8 MeasureObjectIntensity\n",
      "9 MeasureTexture\n",
      "10 MeasureObjectNeighbors\n",
      "11 MeasureColocalization\n",
      "12 MeasureImageIntensity\n",
      "13 MeasureImageQuality\n",
      "14 CalculateMath\n",
      "15 ClassifyObjects\n",
      "16 GrayToColor\n",
      "17 ExportToSpreadsheet\n"
     ]
    }
   ],
   "source": [
    "anns = dataset.listAnnotations()\n",
    "for ann in anns:\n",
    "    if type(ann).__name__ == 'FileAnnotationWrapper':\n",
    "        pipe_path = os.path.join(new_output_directory, ann.getFileName())\n",
    "        with open(str(pipe_path), 'wb') as f:\n",
    "            for chunk in ann.getFileInChunks():\n",
    "                f.write(chunk)\n",
    "\n",
    "pipeline = cpp.Pipeline()\n",
    "pipeline.load(str(pipe_path))\n",
    "\n",
    "# Remove first 4 modules: Images, Metadata, NamesAndTypes, Groups...\n",
    "# (replaced by InjectImage module below)\n",
    "for i in range(4):\n",
    "    print('Remove module: ', pipeline.modules()[0].module_name)\n",
    "    pipeline.remove_module(1)\n",
    "print('Pipeline modules:')\n",
    "for module in pipeline.modules():\n",
    "    print(module.module_num, module.module_name)"
   ]
  },
  {
   "cell_type": "markdown",
   "metadata": {},
   "source": [
    "### Run Cell Profiler Pipeline on the OMERO Images"
   ]
  },
  {
   "cell_type": "code",
   "execution_count": 6,
   "metadata": {},
   "outputs": [
    {
     "name": "stderr",
     "output_type": "stream",
     "text": [
      "WARNING:root:Experiment-wide values for mean threshold, etc calculated by MeasureImageQuality may be incorrect if the run is split into subsets of images.\n",
      "WARNING:root:Experiment-wide values for mean threshold, etc calculated by MeasureImageQuality may be incorrect if the run is split into subsets of images.\n",
      "WARNING:root:Experiment-wide values for mean threshold, etc calculated by MeasureImageQuality may be incorrect if the run is split into subsets of images.\n"
     ]
    }
   ],
   "source": [
    "warnings.filterwarnings('ignore')\n",
    "\n",
    "image_df = pandas.DataFrame()\n",
    "\n",
    "for image in dataset.listChildren():\n",
    "\n",
    "    pixels = image.getPrimaryPixels()\n",
    "    size_c = image.getSizeC()\n",
    "    # For each Image in OMERO, we copy pipeline and inject image modules\n",
    "    pipeline_copy = pipeline.copy()\n",
    "\n",
    "    channel_names = {'HA': 1,\n",
    "                     'Pc': 2,\n",
    "                     }\n",
    "\n",
    "    for image_name, channel in channel_names.items():\n",
    "\n",
    "        plane = pixels.getPlane(0, channel, 0)\n",
    "        # image_name = image.getName()\n",
    "\n",
    "        inject_image_module = InjectImage(image_name, plane)\n",
    "        inject_image_module.set_module_num(1)\n",
    "        pipeline_copy.add_module(inject_image_module)\n",
    "\n",
    "    m = pipeline_copy.run()\n",
    "\n",
    "    # Results obtained as CSV from Cell Profiler\n",
    "    image_csv = pandas.read_csv(new_output_directory + '/Image.csv')\n",
    "    image_csv.ImageName = image.getName()\n",
    "    image_csv.ImageId = image.getId()\n",
    "    image_df = image_df.append(image_csv)"
   ]
  },
  {
   "cell_type": "markdown",
   "metadata": {},
   "source": [
    "## Results obtained as CSV from Cell Profiler"
   ]
  },
  {
   "cell_type": "markdown",
   "metadata": {},
   "source": [
    "### Images (Summary)"
   ]
  },
  {
   "cell_type": "code",
   "execution_count": 10,
   "metadata": {},
   "outputs": [
    {
     "data": {
      "text/html": [
       "<div>\n",
       "<style scoped>\n",
       "    .dataframe tbody tr th:only-of-type {\n",
       "        vertical-align: middle;\n",
       "    }\n",
       "\n",
       "    .dataframe tbody tr th {\n",
       "        vertical-align: top;\n",
       "    }\n",
       "\n",
       "    .dataframe thead th {\n",
       "        text-align: right;\n",
       "    }\n",
       "</style>\n",
       "<table border=\"1\" class=\"dataframe\">\n",
       "  <thead>\n",
       "    <tr style=\"text-align: right;\">\n",
       "      <th></th>\n",
       "      <th>Classify_Large_NumObjectsPerBin</th>\n",
       "      <th>Classify_Large_PctObjectsPerBin</th>\n",
       "      <th>Classify_Medium_NumObjectsPerBin</th>\n",
       "      <th>Classify_Medium_PctObjectsPerBin</th>\n",
       "      <th>Classify_Small_NumObjectsPerBin</th>\n",
       "      <th>Classify_Small_PctObjectsPerBin</th>\n",
       "      <th>Correlation_Correlation_CropBlue_CropGreen</th>\n",
       "      <th>Correlation_Costes_CropBlue_CropGreen</th>\n",
       "      <th>Correlation_Costes_CropGreen_CropBlue</th>\n",
       "      <th>Correlation_K_CropBlue_CropGreen</th>\n",
       "      <th>...</th>\n",
       "      <th>Texture_Variance_CropBlue_3_02_256</th>\n",
       "      <th>Texture_Variance_CropBlue_3_03_256</th>\n",
       "      <th>Threshold_FinalThreshold_Cells</th>\n",
       "      <th>Threshold_FinalThreshold_Nuclei</th>\n",
       "      <th>Threshold_OrigThreshold_Cells</th>\n",
       "      <th>Threshold_OrigThreshold_Nuclei</th>\n",
       "      <th>Threshold_SumOfEntropies_Cells</th>\n",
       "      <th>Threshold_SumOfEntropies_Nuclei</th>\n",
       "      <th>Threshold_WeightedVariance_Cells</th>\n",
       "      <th>Threshold_WeightedVariance_Nuclei</th>\n",
       "    </tr>\n",
       "  </thead>\n",
       "  <tbody>\n",
       "    <tr>\n",
       "      <th>0</th>\n",
       "      <td>3</td>\n",
       "      <td>8.823529</td>\n",
       "      <td>3</td>\n",
       "      <td>8.823529</td>\n",
       "      <td>9</td>\n",
       "      <td>26.470588</td>\n",
       "      <td>0.526074</td>\n",
       "      <td>0.990753</td>\n",
       "      <td>0.954735</td>\n",
       "      <td>0.943040</td>\n",
       "      <td>...</td>\n",
       "      <td>369.211218</td>\n",
       "      <td>372.200473</td>\n",
       "      <td>0.113534</td>\n",
       "      <td>0.054102</td>\n",
       "      <td>0.113534</td>\n",
       "      <td>0.054102</td>\n",
       "      <td>-13.206373</td>\n",
       "      <td>-12.888235</td>\n",
       "      <td>0.636118</td>\n",
       "      <td>1.264639</td>\n",
       "    </tr>\n",
       "    <tr>\n",
       "      <th>0</th>\n",
       "      <td>2</td>\n",
       "      <td>7.407407</td>\n",
       "      <td>2</td>\n",
       "      <td>7.407407</td>\n",
       "      <td>9</td>\n",
       "      <td>33.333333</td>\n",
       "      <td>0.178739</td>\n",
       "      <td>0.621968</td>\n",
       "      <td>0.428216</td>\n",
       "      <td>0.446542</td>\n",
       "      <td>...</td>\n",
       "      <td>550.550634</td>\n",
       "      <td>549.096159</td>\n",
       "      <td>0.086443</td>\n",
       "      <td>0.070660</td>\n",
       "      <td>0.086443</td>\n",
       "      <td>0.070660</td>\n",
       "      <td>-12.715738</td>\n",
       "      <td>-12.687216</td>\n",
       "      <td>0.401940</td>\n",
       "      <td>0.931757</td>\n",
       "    </tr>\n",
       "    <tr>\n",
       "      <th>0</th>\n",
       "      <td>0</td>\n",
       "      <td>0.000000</td>\n",
       "      <td>1</td>\n",
       "      <td>5.000000</td>\n",
       "      <td>8</td>\n",
       "      <td>40.000000</td>\n",
       "      <td>0.382287</td>\n",
       "      <td>0.941827</td>\n",
       "      <td>0.944726</td>\n",
       "      <td>0.416789</td>\n",
       "      <td>...</td>\n",
       "      <td>314.672127</td>\n",
       "      <td>315.466506</td>\n",
       "      <td>0.062577</td>\n",
       "      <td>0.050299</td>\n",
       "      <td>0.062577</td>\n",
       "      <td>0.050299</td>\n",
       "      <td>-12.997775</td>\n",
       "      <td>-13.107301</td>\n",
       "      <td>0.285742</td>\n",
       "      <td>1.004763</td>\n",
       "    </tr>\n",
       "  </tbody>\n",
       "</table>\n",
       "<p>3 rows × 605 columns</p>\n",
       "</div>"
      ],
      "text/plain": [
       "   Classify_Large_NumObjectsPerBin  Classify_Large_PctObjectsPerBin  \\\n",
       "0                                3                         8.823529   \n",
       "0                                2                         7.407407   \n",
       "0                                0                         0.000000   \n",
       "\n",
       "   Classify_Medium_NumObjectsPerBin  Classify_Medium_PctObjectsPerBin  \\\n",
       "0                                 3                          8.823529   \n",
       "0                                 2                          7.407407   \n",
       "0                                 1                          5.000000   \n",
       "\n",
       "   Classify_Small_NumObjectsPerBin  Classify_Small_PctObjectsPerBin  \\\n",
       "0                                9                        26.470588   \n",
       "0                                9                        33.333333   \n",
       "0                                8                        40.000000   \n",
       "\n",
       "   Correlation_Correlation_CropBlue_CropGreen  \\\n",
       "0                                    0.526074   \n",
       "0                                    0.178739   \n",
       "0                                    0.382287   \n",
       "\n",
       "   Correlation_Costes_CropBlue_CropGreen  \\\n",
       "0                               0.990753   \n",
       "0                               0.621968   \n",
       "0                               0.941827   \n",
       "\n",
       "   Correlation_Costes_CropGreen_CropBlue  Correlation_K_CropBlue_CropGreen  \\\n",
       "0                               0.954735                          0.943040   \n",
       "0                               0.428216                          0.446542   \n",
       "0                               0.944726                          0.416789   \n",
       "\n",
       "   ...  Texture_Variance_CropBlue_3_02_256  \\\n",
       "0  ...                          369.211218   \n",
       "0  ...                          550.550634   \n",
       "0  ...                          314.672127   \n",
       "\n",
       "   Texture_Variance_CropBlue_3_03_256  Threshold_FinalThreshold_Cells  \\\n",
       "0                          372.200473                        0.113534   \n",
       "0                          549.096159                        0.086443   \n",
       "0                          315.466506                        0.062577   \n",
       "\n",
       "   Threshold_FinalThreshold_Nuclei  Threshold_OrigThreshold_Cells  \\\n",
       "0                         0.054102                       0.113534   \n",
       "0                         0.070660                       0.086443   \n",
       "0                         0.050299                       0.062577   \n",
       "\n",
       "   Threshold_OrigThreshold_Nuclei  Threshold_SumOfEntropies_Cells  \\\n",
       "0                        0.054102                      -13.206373   \n",
       "0                        0.070660                      -12.715738   \n",
       "0                        0.050299                      -12.997775   \n",
       "\n",
       "   Threshold_SumOfEntropies_Nuclei  Threshold_WeightedVariance_Cells  \\\n",
       "0                       -12.888235                          0.636118   \n",
       "0                       -12.687216                          0.401940   \n",
       "0                       -13.107301                          0.285742   \n",
       "\n",
       "   Threshold_WeightedVariance_Nuclei  \n",
       "0                           1.264639  \n",
       "0                           0.931757  \n",
       "0                           1.004763  \n",
       "\n",
       "[3 rows x 605 columns]"
      ]
     },
     "execution_count": 10,
     "metadata": {},
     "output_type": "execute_result"
    }
   ],
   "source": [
    "image_df.head()"
   ]
  },
  {
   "cell_type": "markdown",
   "metadata": {},
   "source": [
    "### Push Results back to OMERO"
   ]
  },
  {
   "cell_type": "code",
   "execution_count": 12,
   "metadata": {},
   "outputs": [
    {
     "name": "stdout",
     "output_type": "stream",
     "text": [
      "\n",
      "Creating an OriginalFile and FileAnnotation\n",
      "Attaching FileAnnotation to Dataset:  File ID: 135224 , Image.csv Size: 54496\n",
      "\n",
      "Creating an OriginalFile and FileAnnotation\n",
      "Attaching FileAnnotation to Dataset:  File ID: 135225 , Nuclei.csv Size: 207531\n",
      "\n",
      "Creating an OriginalFile and FileAnnotation\n",
      "Attaching FileAnnotation to Dataset:  File ID: 135226 , Cytoplasm.csv Size: 185348\n",
      "\n",
      "Creating an OriginalFile and FileAnnotation\n",
      "Attaching FileAnnotation to Dataset:  File ID: 135227 , Cells.csv Size: 187106\n"
     ]
    }
   ],
   "source": [
    "file_to_upload = str(os.path.join(new_output_directory, 'Image.csv'))\n",
    "image_df.to_csv(file_to_upload)\n",
    "\n",
    "# create the original file and file annotation (uploads the file etc.)\n",
    "namespace = \"cellprofiler.analysis\"\n",
    "print(\"\\nCreating an OriginalFile and FileAnnotation\")\n",
    "file_ann = conn.createFileAnnfromLocalFile(file_to_upload, mimetype=\"text/plain\", ns=namespace, desc=None)\n",
    "print(\"Attaching FileAnnotation to Dataset: \", \"File ID:\", file_ann.getId(),\n",
    "    \",\", file_ann.getFile().getName(), \"Size:\", file_ann.getFile().getSize())\n",
    "dataset.linkAnnotation(file_ann)"
   ]
  },
  {
   "cell_type": "markdown",
   "metadata": {},
   "source": [
    "#### Close the connection to the OMERO server"
   ]
  },
  {
   "cell_type": "code",
   "execution_count": 13,
   "metadata": {
    "pycharm": {
     "name": "#%%\n"
    }
   },
   "outputs": [],
   "source": [
    "conn.close()"
   ]
  }
 ],
 "metadata": {
  "kernelspec": {
   "display_name": "Python 3",
   "language": "python",
   "name": "python3"
  },
  "language_info": {
   "codemirror_mode": {
    "name": "ipython",
    "version": 3
   },
   "file_extension": ".py",
   "mimetype": "text/x-python",
   "name": "python",
   "nbconvert_exporter": "python",
   "pygments_lexer": "ipython3",
   "version": "3.8.5"
  }
 },
 "nbformat": 4,
 "nbformat_minor": 2
}